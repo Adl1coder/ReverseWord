{
  "nbformat": 4,
  "nbformat_minor": 0,
  "metadata": {
    "colab": {
      "provenance": [],
      "authorship_tag": "ABX9TyNeCkdI97MRMV7wudbvGXG0",
      "include_colab_link": true
    },
    "kernelspec": {
      "name": "python3",
      "display_name": "Python 3"
    },
    "language_info": {
      "name": "python"
    }
  },
  "cells": [
    {
      "cell_type": "markdown",
      "metadata": {
        "id": "view-in-github",
        "colab_type": "text"
      },
      "source": [
        "<a href=\"https://colab.research.google.com/github/Adl1coder/ReverseWord/blob/master/ReverseWord.ipynb\" target=\"_parent\"><img src=\"https://colab.research.google.com/assets/colab-badge.svg\" alt=\"Open In Colab\"/></a>"
      ]
    },
    {
      "cell_type": "code",
      "execution_count": 5,
      "metadata": {
        "colab": {
          "base_uri": "https://localhost:8080/"
        },
        "id": "DkGT8ZeAh5J7",
        "outputId": "aac38c04-559b-4cae-8371-dcd2ee95e69f"
      },
      "outputs": [
        {
          "output_type": "stream",
          "name": "stdout",
          "text": [
            "Enter the sentence to reverse: u are so smart \n",
            "Reversed sentence: u era os trams\n"
          ]
        }
      ],
      "source": [
        "def reverse_word(word):\n",
        "  return word[::-1]\n",
        "\n",
        "def reverse_sentence(sentence):\n",
        "  words = sentence.split()\n",
        "  reversed_words = [reverse_word(word) for word in words]\n",
        "  return \" \".join(reversed_words)\n",
        "\n",
        "sentence = input(\"Enter the sentence to reverse: \")\n",
        "reversed_sentence = reverse_sentence(sentence)\n",
        "print(\"Reversed sentence:\", reversed_sentence)\n"
      ]
    },
    {
      "cell_type": "code",
      "source": [
        "def reverse_sentence(sentence):\n",
        "  return \" \".join(reversed(sentence.split()))\n",
        "\n",
        "sentence = input(\"Enter the sentence to reverse: \")\n",
        "\n",
        "reversed_sentence = reverse_sentence(sentence)\n",
        "print(\"Reversed sentence:\", reversed_sentence)\n",
        "\n"
      ],
      "metadata": {
        "colab": {
          "base_uri": "https://localhost:8080/"
        },
        "id": "dCvhUqx5ib-1",
        "outputId": "115567f3-c266-48ba-b627-8fac93ef2ded"
      },
      "execution_count": 6,
      "outputs": [
        {
          "output_type": "stream",
          "name": "stdout",
          "text": [
            "Enter the sentence to reverse: u are so beautiful\n",
            "Reversed sentence: beautiful so are u\n"
          ]
        }
      ]
    },
    {
      "cell_type": "code",
      "source": [
        "def ters_cevir(kelime):\n",
        "  return kelime[::-1]\n",
        "\n",
        "def cumleyi_ters_cevir(cumle):\n",
        "  kelimeler = cumle.split()\n",
        "  ters_kelimeler = [ters_cevir(kelime) for kelime in kelimeler]\n",
        "  return \" \".join(ters_kelimeler)\n",
        "cumle = input(\"Tersine çevrilecek cümleyi giriniz: \")\n",
        "ters_cumle = cumleyi_ters_cevir(cumle)\n",
        "print(\"Ters çevrilmiş cümle:\", ters_cumle)\n"
      ],
      "metadata": {
        "colab": {
          "base_uri": "https://localhost:8080/"
        },
        "id": "E5jSZoh0jL2x",
        "outputId": "b6b47f17-ca6f-465e-b7cb-fd880af43dc4"
      },
      "execution_count": 7,
      "outputs": [
        {
          "output_type": "stream",
          "name": "stdout",
          "text": [
            "Tersine çevrilecek cümleyi giriniz: u are so nice\n",
            "Ters çevrilmiş cümle: u era os ecin\n"
          ]
        }
      ]
    },
    {
      "cell_type": "code",
      "source": [
        "import re\n",
        "\n",
        "def reverse_words_with_punctuation(sentence):\n",
        "  words = re.findall(r\"[\\w]+|[.,!?]\", sentence)\n",
        "  words.reverse()\n",
        "  return \"\".join(words)\n",
        "\n",
        "sentence = input(\"Enter the sentence to reverse: \")\n",
        "\n",
        "reversed_sentence = reverse_words_with_punctuation(sentence)\n",
        "print(\"Reversed sentence:\", reversed_sentence)"
      ],
      "metadata": {
        "colab": {
          "base_uri": "https://localhost:8080/"
        },
        "id": "nOkAhfxbjSeV",
        "outputId": "2a7949ed-2bd0-42e6-840c-8293da564234"
      },
      "execution_count": 8,
      "outputs": [
        {
          "output_type": "stream",
          "name": "stdout",
          "text": [
            "Enter the sentence to reverse: u are so kind\n",
            "Reversed sentence: kindsoareu\n"
          ]
        }
      ]
    }
  ]
}