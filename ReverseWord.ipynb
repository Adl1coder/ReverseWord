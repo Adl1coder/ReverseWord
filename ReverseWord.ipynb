{
  "nbformat": 4,
  "nbformat_minor": 0,
  "metadata": {
    "colab": {
      "provenance": [],
      "authorship_tag": "ABX9TyPMAg3Ccdrh2XGN+WCCCIIp",
      "include_colab_link": true
    },
    "kernelspec": {
      "name": "python3",
      "display_name": "Python 3"
    },
    "language_info": {
      "name": "python"
    }
  },
  "cells": [
    {
      "cell_type": "markdown",
      "metadata": {
        "id": "view-in-github",
        "colab_type": "text"
      },
      "source": [
        "<a href=\"https://colab.research.google.com/github/Adl1coder/model_kullan_veri_gonder/blob/master/ReverseWord.ipynb\" target=\"_parent\"><img src=\"https://colab.research.google.com/assets/colab-badge.svg\" alt=\"Open In Colab\"/></a>"
      ]
    },
    {
      "cell_type": "code",
      "execution_count": 4,
      "metadata": {
        "colab": {
          "base_uri": "https://localhost:8080/"
        },
        "id": "DkGT8ZeAh5J7",
        "outputId": "ee678bb1-38c3-4fba-8b8c-1f5f400509c5"
      },
      "outputs": [
        {
          "output_type": "stream",
          "name": "stdout",
          "text": [
            "Enter the sentence to reverse: You are a very smart person\n",
            "Reversed sentence: uoY era a yrev trams nosrep\n"
          ]
        }
      ],
      "source": [
        "def reverse_word(word):\n",
        "  \"\"\"Reverses a given word.\"\"\"\n",
        "  return word[::-1]\n",
        "\n",
        "def reverse_sentence(sentence):\n",
        "  \"\"\"Reverses the order of words in a sentence and reverses individual words.\"\"\"\n",
        "  words = sentence.split()\n",
        "  reversed_words = [reverse_word(word) for word in words]\n",
        "  return \" \".join(reversed_words)\n",
        "\n",
        "# Get the sentence to reverse from the user\n",
        "sentence = input(\"Enter the sentence to reverse: \")\n",
        "\n",
        "# Reverse the sentence and print the result\n",
        "reversed_sentence = reverse_sentence(sentence)\n",
        "print(\"Reversed sentence:\", reversed_sentence)\n"
      ]
    },
    {
      "cell_type": "code",
      "source": [
        "def reverse_sentence(sentence):\n",
        "  \"\"\"Reverses a given sentence.\"\"\"\n",
        "  return \" \".join(reversed(sentence.split()))\n",
        "\n",
        "# Get the sentence to reverse from the user\n",
        "sentence = input(\"Enter the sentence to reverse: \")\n",
        "\n",
        "# Reverse the sentence and print the result\n",
        "reversed_sentence = reverse_sentence(sentence)\n",
        "print(\"Reversed sentence:\", reversed_sentence)\n",
        "\n"
      ],
      "metadata": {
        "colab": {
          "base_uri": "https://localhost:8080/"
        },
        "id": "dCvhUqx5ib-1",
        "outputId": "d05f5b06-f238-47da-ccd6-06ba161355af"
      },
      "execution_count": 2,
      "outputs": [
        {
          "output_type": "stream",
          "name": "stdout",
          "text": [
            "Enter the sentence to reverse: when ı was a child, I was eating soil\n",
            "Reversed sentence: soil eating was I child, a was ı when\n"
          ]
        }
      ]
    },
    {
      "cell_type": "code",
      "source": [
        "def ters_cevir(kelime):\n",
        "  \"\"\"Bir kelimeyi ters çevirir.\"\"\"\n",
        "  return kelime[::-1]\n",
        "\n",
        "def cumleyi_ters_cevir(cumle):\n",
        "  \"\"\"Bir cümlenin kelimelerini ters çevirir ve kelimeleri ters çevirerek cümleyi ters çevirir.\"\"\"\n",
        "  kelimeler = cumle.split()\n",
        "  ters_kelimeler = [ters_cevir(kelime) for kelime in kelimeler]\n",
        "  return \" \".join(ters_kelimeler)\n",
        "\n",
        "# Kullanıcıdan cümle girmesini isteyin\n",
        "cumle = input(\"Tersine çevrilecek cümleyi giriniz: \")\n",
        "\n",
        "# Cümleyi ters çevirin ve yazdırın\n",
        "ters_cumle = cumleyi_ters_cevir(cumle)\n",
        "print(\"Ters çevrilmiş cümle:\", ters_cumle)\n"
      ],
      "metadata": {
        "colab": {
          "base_uri": "https://localhost:8080/"
        },
        "id": "E5jSZoh0jL2x",
        "outputId": "e1ea5224-de5f-4406-97bf-401135d4f8b3"
      },
      "execution_count": 3,
      "outputs": [
        {
          "output_type": "stream",
          "name": "stdout",
          "text": [
            "Tersine çevrilecek cümleyi giriniz: Ben çok zekiyim\n",
            "Ters çevrilmiş cümle: neB koç miyikez\n"
          ]
        }
      ]
    },
    {
      "cell_type": "code",
      "source": [
        "import re\n",
        "\n",
        "def reverse_words_with_punctuation(sentence):\n",
        "  \"\"\"Reverses words in a sentence while preserving punctuation.\"\"\"\n",
        "  words = re.findall(r\"[\\w]+|[.,!?]\", sentence)\n",
        "  words.reverse()\n",
        "  return \"\".join(words)\n",
        "\n",
        "# Get the sentence to reverse from the user\n",
        "sentence = input(\"Enter the sentence to reverse: \")\n",
        "\n",
        "# Reverse the sentence and print the result\n",
        "reversed_sentence = reverse_words_with_punctuation(sentence)\n",
        "print(\"Reversed sentence:\", reversed_sentence)"
      ],
      "metadata": {
        "id": "nOkAhfxbjSeV"
      },
      "execution_count": null,
      "outputs": []
    }
  ]
}